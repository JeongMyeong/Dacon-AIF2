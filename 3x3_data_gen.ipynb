{
 "cells": [
  {
   "cell_type": "code",
   "execution_count": 1,
   "metadata": {},
   "outputs": [],
   "source": [
    "import warnings \n",
    "warnings.filterwarnings('ignore')\n",
    "import pandas as pd\n",
    "import numpy as np\n",
    "import matplotlib.pyplot as plt\n",
    "import seaborn as sns\n",
    "import glob\n",
    "from sklearn.model_selection import train_test_split\n",
    "from sklearn.preprocessing import MinMaxScaler, StandardScaler, RobustScaler\n",
    "import gc\n",
    "from sklearn.metrics import f1_score, accuracy_score, mean_absolute_error, confusion_matrix\n",
    "import lightgbm as lgb\n",
    "import random\n",
    "import pickle\n",
    "from tqdm import tqdm_notebook\n",
    "from sklearn.model_selection import StratifiedKFold, KFold\n",
    "import time\n",
    "from tensorflow.keras.callbacks import EarlyStopping,ModelCheckpoint                                            # import\n",
    "column = {'BT1':2, 'BT2':3, 'BT3':4,'BT4':5, 'BT5':6, 'BT6':7, 'BT7':8, 'BT8':9, 'BT9':10,\n",
    "          'type':11, 'GMI_lon':12, 'GMI_lat':13, 'DPR_lon':14, 'DPR_lat':15, 'target':16}"
   ]
  },
  {
   "cell_type": "code",
   "execution_count": 2,
   "metadata": {},
   "outputs": [],
   "source": [
    "train_files = glob.glob('../dataset/train/*.npy')\n",
    "train_files = sorted(train_files)\n",
    "test_files = glob.glob('../dataset/test/*.npy')\n",
    "test_files = sorted(test_files)"
   ]
  },
  {
   "cell_type": "code",
   "execution_count": 9,
   "metadata": {},
   "outputs": [],
   "source": [
    "# 3x3\n",
    "def train_add_gen(file):\n",
    "    data = np.load(file)\n",
    "    data = np.pad(data,1, 'constant', constant_values=0)\n",
    "    li = []\n",
    "    for h in (range(1, 41)):\n",
    "        for w in range(1, 41):\n",
    "            tmp = np.array(data[h-1:h+2, w-1:w+2,:])\n",
    "            for i in range(1, 14):\n",
    "                tmp[:,:,i] = np.where(tmp[:,:,i]==0,(tmp[:,:,i][np.where(tmp[:,:,i]!=0)]).mean() , tmp[:,:,i])\n",
    "            tmp = tmp[:,:,1:-1]\n",
    "            tmp = np.nan_to_num(tmp)\n",
    "#             if (tmp[:,:,-1]>=0.1).sum()>0:\n",
    "            li.append(tmp)\n",
    "    li = np.array(li).astype(np.float32)\n",
    "    np.save('test_cnn_all/'+file.split('/')[-1][:-4]+'_add', li)"
   ]
  },
  {
   "cell_type": "code",
   "execution_count": 10,
   "metadata": {},
   "outputs": [],
   "source": [
    "# idx=9\n",
    "# RANGE=train_files[idx*7634:]"
   ]
  },
  {
   "cell_type": "code",
   "execution_count": 11,
   "metadata": {},
   "outputs": [
    {
     "data": {
      "application/vnd.jupyter.widget-view+json": {
       "model_id": "2ec1a0b63c524ad8bd208435e5599265",
       "version_major": 2,
       "version_minor": 0
      },
      "text/plain": [
       "HBox(children=(FloatProgress(value=0.0, max=2416.0), HTML(value='')))"
      ]
     },
     "metadata": {},
     "output_type": "display_data"
    },
    {
     "name": "stdout",
     "output_type": "stream",
     "text": [
      "\n"
     ]
    }
   ],
   "source": [
    "for file in tqdm_notebook(test_files):\n",
    "    train_add_gen(file)"
   ]
  }
 ],
 "metadata": {
  "kernelspec": {
   "display_name": "Python 3",
   "language": "python",
   "name": "python3"
  },
  "language_info": {
   "codemirror_mode": {
    "name": "ipython",
    "version": 3
   },
   "file_extension": ".py",
   "mimetype": "text/x-python",
   "name": "python",
   "nbconvert_exporter": "python",
   "pygments_lexer": "ipython3",
   "version": "3.5.2"
  }
 },
 "nbformat": 4,
 "nbformat_minor": 4
}
