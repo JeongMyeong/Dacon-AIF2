{
 "cells": [
  {
   "cell_type": "code",
   "execution_count": 5,
   "metadata": {},
   "outputs": [],
   "source": [
    "import warnings \n",
    "warnings.filterwarnings('ignore')\n",
    "import pandas as pd\n",
    "import numpy as np\n",
    "import matplotlib.pyplot as plt\n",
    "import seaborn as sns\n",
    "import glob\n",
    "from sklearn.model_selection import train_test_split\n",
    "from sklearn.preprocessing import MinMaxScaler, StandardScaler, RobustScaler\n",
    "import gc\n",
    "from sklearn.metrics import f1_score, accuracy_score, mean_absolute_error, confusion_matrix\n",
    "import lightgbm as lgb\n",
    "import random\n",
    "import pickle\n",
    "from tqdm import tqdm_notebook\n",
    "from sklearn.model_selection import StratifiedKFold, KFold\n",
    "import time\n",
    "from tensorflow.keras.callbacks import EarlyStopping,ModelCheckpoint                                            # import\n",
    "column = {'BT1':2, 'BT2':3, 'BT3':4,'BT4':5, 'BT5':6, 'BT6':7, 'BT7':8, 'BT8':9, 'BT9':10,\n",
    "          'type':11, 'GMI_lon':12, 'GMI_lat':13, 'DPR_lon':14, 'DPR_lat':15, 'target':16}"
   ]
  },
  {
   "cell_type": "code",
   "execution_count": 6,
   "metadata": {},
   "outputs": [],
   "source": [
    "train_files = glob.glob('../dataset/train/*.npy')\n",
    "train_files = sorted(train_files)\n",
    "test_files = glob.glob('../dataset/test/*.npy')\n",
    "test_files = sorted(test_files)"
   ]
  },
  {
   "cell_type": "code",
   "execution_count": 9,
   "metadata": {},
   "outputs": [
    {
     "name": "stdout",
     "output_type": "stream",
     "text": [
      "CPU times: user 0 ns, sys: 0 ns, total: 0 ns\n",
      "Wall time: 14.5 µs\n"
     ]
    }
   ],
   "source": [
    "%%time\n",
    "\n",
    "def train_add_gen(file):\n",
    "    data = np.load(file)\n",
    "    data = np.pad(data,2, 'constant', constant_values=0)\n",
    "    li = []\n",
    "    for h in (range(2, 42)):\n",
    "        for w in range(2, 42):\n",
    "            means, maxs, mean_val_diffs, max_val_diffs, MAX_val_diffs = [], [], [], [], []\n",
    "            for btn in (['BT1', 'BT2', 'BT3', 'BT4', 'BT5', 'BT6' ,'BT7', 'BT8', 'BT9']):\n",
    "                BT_vals = data[:,:,column[btn]].reshape(-1)\n",
    "                BT_MAX = BT_vals[BT_vals!=0].max()\n",
    "                val = data[h,w, column[btn]]\n",
    "                BT = data[h-2:h+3, w-2:w+3, column[btn]]\n",
    "                BT = BT[BT!=0]\n",
    "                means.append(BT.mean())\n",
    "                maxs.append(BT.max())\n",
    "                mean_val_diffs.append(means[-1] - val)\n",
    "                max_val_diffs.append(maxs[-1] - val)\n",
    "                MAX_val_diffs.append(BT_MAX - val)\n",
    "            li.append([means, maxs, mean_val_diffs, max_val_diffs, MAX_val_diffs])\n",
    "    np.save('../dataset/train_add/'+file.split('/')[-1][:-4]+'_add',np.array(li).astype(np.float32))"
   ]
  },
  {
   "cell_type": "code",
   "execution_count": 10,
   "metadata": {},
   "outputs": [
    {
     "name": "stdout",
     "output_type": "stream",
     "text": [
      "range(0, 7634)\n"
     ]
    },
    {
     "data": {
      "application/vnd.jupyter.widget-view+json": {
       "model_id": "5549bd1ae7d54d9c9e79a666fd58ef29",
       "version_major": 2,
       "version_minor": 0
      },
      "text/plain": [
       "HBox(children=(FloatProgress(value=0.0, max=7634.0), HTML(value='')))"
      ]
     },
     "metadata": {},
     "output_type": "display_data"
    },
    {
     "name": "stdout",
     "output_type": "stream",
     "text": [
      "\n",
      "\n",
      "CPU times: user 38min 28s, sys: 4.3 s, total: 38min 32s\n",
      "Wall time: 39min 6s\n"
     ]
    }
   ],
   "source": [
    "%%time\n",
    "i=0\n",
    "RANGE = range(i*7634,(i+1)*7634)\n",
    "print(RANGE)\n",
    "for file in tqdm_notebook(RANGE):\n",
    "    train_add_gen(train_files[file])"
   ]
  },
  {
   "cell_type": "code",
   "execution_count": 220,
   "metadata": {
    "collapsed": true
   },
   "outputs": [
    {
     "data": {
      "text/plain": [
       "<matplotlib.axes._subplots.AxesSubplot at 0x7ff84564f908>"
      ]
     },
     "execution_count": 220,
     "metadata": {},
     "output_type": "execute_result"
    },
    {
     "data": {
      "image/png": "[encoded data removed]",
      "text/plain": [
       "<Figure size 720x720 with 1 Axes>"
      ]
     },
     "metadata": {
      "needs_background": "light"
     },
     "output_type": "display_data"
    }
   ],
   "source": [
    "plt.figure(figsize=(10,10))\n",
    "# for i in range(40):\n",
    "sns.scatterplot(data[3:20,3:20,column['GMI_lon']].reshape(-1), data[3:20,3:20,column['GMI_lat']].reshape(-1))\n",
    "# n=4\n",
    "sns.scatterplot(data[3:5,3:5,column['GMI_lon']].reshape(-1), data[3:5, 3:5, column['GMI_lat']].reshape(-1))"
   ]
  }
 ],
 "metadata": {
  "kernelspec": {
   "display_name": "Python 3",
   "language": "python",
   "name": "python3"
  },
  "language_info": {
   "codemirror_mode": {
    "name": "ipython",
    "version": 3
   },
   "file_extension": ".py",
   "mimetype": "text/x-python",
   "name": "python",
   "nbconvert_exporter": "python",
   "pygments_lexer": "ipython3",
   "version": "3.5.2"
  }
 },
 "nbformat": 4,
 "nbformat_minor": 4
}
